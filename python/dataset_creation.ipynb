{
 "cells": [
  {
   "cell_type": "code",
   "execution_count": 1,
   "metadata": {},
   "outputs": [],
   "source": [
    "import pandas as pd \n",
    "import numpy as np\n",
    "from collections import defaultdict"
   ]
  },
  {
   "cell_type": "code",
   "execution_count": 2,
   "metadata": {},
   "outputs": [],
   "source": [
    "NEWS_USER_PATH = \"../DatosKaggle/BuzzFeed/BuzzFeedNewsUser.csv\"\n",
    "USER_USER_PATH = \"../DatosKaggle/BuzzFeed/sample/BuzzFeedUserUser_sample_20210815.csv\"\n",
    "NEWS_PATH = \"news_id_title_type.csv\""
   ]
  },
  {
   "cell_type": "markdown",
   "metadata": {},
   "source": [
    "## Carga de Datos"
   ]
  },
  {
   "cell_type": "markdown",
   "metadata": {},
   "source": [
    "Cargamos el dataset de noticias"
   ]
  },
  {
   "cell_type": "code",
   "execution_count": 3,
   "metadata": {},
   "outputs": [
    {
     "name": "stdout",
     "output_type": "stream",
     "text": [
      "El dataset de noticias originalmente cuenta con 182 observaciones\n"
     ]
    },
    {
     "data": {
      "text/html": [
       "<div>\n",
       "<style scoped>\n",
       "    .dataframe tbody tr th:only-of-type {\n",
       "        vertical-align: middle;\n",
       "    }\n",
       "\n",
       "    .dataframe tbody tr th {\n",
       "        vertical-align: top;\n",
       "    }\n",
       "\n",
       "    .dataframe thead th {\n",
       "        text-align: right;\n",
       "    }\n",
       "</style>\n",
       "<table border=\"1\" class=\"dataframe\">\n",
       "  <thead>\n",
       "    <tr style=\"text-align: right;\">\n",
       "      <th></th>\n",
       "      <th>id</th>\n",
       "      <th>title</th>\n",
       "      <th>news_type</th>\n",
       "    </tr>\n",
       "  </thead>\n",
       "  <tbody>\n",
       "    <tr>\n",
       "      <th>1</th>\n",
       "      <td>1</td>\n",
       "      <td>Another Terrorist Attack in NYC…Why Are we STI...</td>\n",
       "      <td>Real</td>\n",
       "    </tr>\n",
       "    <tr>\n",
       "      <th>2</th>\n",
       "      <td>2</td>\n",
       "      <td>Hillary Clinton on police shootings: 'too many...</td>\n",
       "      <td>Real</td>\n",
       "    </tr>\n",
       "    <tr>\n",
       "      <th>3</th>\n",
       "      <td>3</td>\n",
       "      <td>Critical counties: Wake County, NC, could put ...</td>\n",
       "      <td>Real</td>\n",
       "    </tr>\n",
       "    <tr>\n",
       "      <th>4</th>\n",
       "      <td>4</td>\n",
       "      <td>NFL Superstar Unleashes 4 Word Bombshell on Re...</td>\n",
       "      <td>Real</td>\n",
       "    </tr>\n",
       "    <tr>\n",
       "      <th>5</th>\n",
       "      <td>5</td>\n",
       "      <td>Obama in NYC: 'We all have a role to play' in ...</td>\n",
       "      <td>Real</td>\n",
       "    </tr>\n",
       "  </tbody>\n",
       "</table>\n",
       "</div>"
      ],
      "text/plain": [
       "   id                                              title news_type\n",
       "1   1  Another Terrorist Attack in NYC…Why Are we STI...      Real\n",
       "2   2  Hillary Clinton on police shootings: 'too many...      Real\n",
       "3   3  Critical counties: Wake County, NC, could put ...      Real\n",
       "4   4  NFL Superstar Unleashes 4 Word Bombshell on Re...      Real\n",
       "5   5  Obama in NYC: 'We all have a role to play' in ...      Real"
      ]
     },
     "metadata": {},
     "output_type": "display_data"
    }
   ],
   "source": [
    "df_news = pd.read_csv(NEWS_PATH)\n",
    "df_news.index = df_news.index + 1 \n",
    "print(f\"El dataset de noticias originalmente cuenta con {len(df_news)} observaciones\")\n",
    "display(df_news.head())"
   ]
  },
  {
   "cell_type": "markdown",
   "metadata": {},
   "source": [
    "Cargamos el dataset de noticias asociadas a un usuario"
   ]
  },
  {
   "cell_type": "code",
   "execution_count": 4,
   "metadata": {},
   "outputs": [
    {
     "name": "stdout",
     "output_type": "stream",
     "text": [
      "El dataset de usuarios que comparten noticias originalmente cuenta con 22779 observaciones\n"
     ]
    },
    {
     "data": {
      "text/html": [
       "<div>\n",
       "<style scoped>\n",
       "    .dataframe tbody tr th:only-of-type {\n",
       "        vertical-align: middle;\n",
       "    }\n",
       "\n",
       "    .dataframe tbody tr th {\n",
       "        vertical-align: top;\n",
       "    }\n",
       "\n",
       "    .dataframe thead th {\n",
       "        text-align: right;\n",
       "    }\n",
       "</style>\n",
       "<table border=\"1\" class=\"dataframe\">\n",
       "  <thead>\n",
       "    <tr style=\"text-align: right;\">\n",
       "      <th></th>\n",
       "      <th>news_id</th>\n",
       "      <th>user</th>\n",
       "      <th>share_freq</th>\n",
       "    </tr>\n",
       "  </thead>\n",
       "  <tbody>\n",
       "    <tr>\n",
       "      <th>0</th>\n",
       "      <td>45</td>\n",
       "      <td>1</td>\n",
       "      <td>1</td>\n",
       "    </tr>\n",
       "    <tr>\n",
       "      <th>1</th>\n",
       "      <td>127</td>\n",
       "      <td>2</td>\n",
       "      <td>1</td>\n",
       "    </tr>\n",
       "  </tbody>\n",
       "</table>\n",
       "</div>"
      ],
      "text/plain": [
       "   news_id  user  share_freq\n",
       "0       45     1           1\n",
       "1      127     2           1"
      ]
     },
     "execution_count": 4,
     "metadata": {},
     "output_type": "execute_result"
    }
   ],
   "source": [
    "df_news_user = pd.read_csv(NEWS_USER_PATH)\n",
    "print(f\"El dataset de usuarios que comparten noticias originalmente cuenta con {len(df_news_user)} observaciones\")\n",
    "df_news_user.head(n=2)"
   ]
  },
  {
   "cell_type": "markdown",
   "metadata": {},
   "source": [
    "Cargamos el dataset de usuarios que siguen a usuarios"
   ]
  },
  {
   "cell_type": "code",
   "execution_count": 5,
   "metadata": {},
   "outputs": [
    {
     "name": "stdout",
     "output_type": "stream",
     "text": [
      "El dataset de usuarios que siguen a usuarios originalmente cuenta con 24306 observaciones\n"
     ]
    },
    {
     "data": {
      "text/html": [
       "<div>\n",
       "<style scoped>\n",
       "    .dataframe tbody tr th:only-of-type {\n",
       "        vertical-align: middle;\n",
       "    }\n",
       "\n",
       "    .dataframe tbody tr th {\n",
       "        vertical-align: top;\n",
       "    }\n",
       "\n",
       "    .dataframe thead th {\n",
       "        text-align: right;\n",
       "    }\n",
       "</style>\n",
       "<table border=\"1\" class=\"dataframe\">\n",
       "  <thead>\n",
       "    <tr style=\"text-align: right;\">\n",
       "      <th></th>\n",
       "      <th>id_source</th>\n",
       "      <th>id_target</th>\n",
       "    </tr>\n",
       "  </thead>\n",
       "  <tbody>\n",
       "    <tr>\n",
       "      <th>0</th>\n",
       "      <td>31</td>\n",
       "      <td>10</td>\n",
       "    </tr>\n",
       "    <tr>\n",
       "      <th>1</th>\n",
       "      <td>10</td>\n",
       "      <td>240</td>\n",
       "    </tr>\n",
       "  </tbody>\n",
       "</table>\n",
       "</div>"
      ],
      "text/plain": [
       "   id_source  id_target\n",
       "0         31         10\n",
       "1         10        240"
      ]
     },
     "execution_count": 5,
     "metadata": {},
     "output_type": "execute_result"
    }
   ],
   "source": [
    "df_user_user = pd.read_csv(USER_USER_PATH, names = ['id_source', 'id_target'])\n",
    "print(f\"El dataset de usuarios que siguen a usuarios originalmente cuenta con {len(df_user_user)} observaciones\")\n",
    "df_user_user.head(n=2)"
   ]
  },
  {
   "cell_type": "markdown",
   "metadata": {},
   "source": [
    "## Procesamiento de Datos"
   ]
  },
  {
   "cell_type": "markdown",
   "metadata": {},
   "source": [
    "Creamos una lista de los usuarios a los que cada usuario sigue llamada ```user_to_following```"
   ]
  },
  {
   "cell_type": "code",
   "execution_count": 6,
   "metadata": {},
   "outputs": [],
   "source": [
    "user_to_following = defaultdict(list)\n",
    "\n",
    "for index, row in df_user_user.iterrows():\n",
    "    id_source = row[\"id_source\"]\n",
    "    id_target = row[\"id_target\"]\n",
    "    user_to_following[id_source].append(id_target)   "
   ]
  },
  {
   "cell_type": "markdown",
   "metadata": {},
   "source": [
    "- Creamos una lista de ids a los que un usuario dado sigue llamada ```following```\n",
    "\n",
    "\n",
    "- Creamos un diccionario en el cual asociamos un user_id con el tipo de noticia y frecuencia con la que interactuo llamado ```user_id_to_news_type```\n",
    "\n",
    "\n",
    "- Creamos una lista con el tipo de noticia con la que interactuo cada usuario y la agregamos al dataframe llamada ```news_type```"
   ]
  },
  {
   "cell_type": "code",
   "execution_count": 7,
   "metadata": {},
   "outputs": [
    {
     "data": {
      "text/html": [
       "<div>\n",
       "<style scoped>\n",
       "    .dataframe tbody tr th:only-of-type {\n",
       "        vertical-align: middle;\n",
       "    }\n",
       "\n",
       "    .dataframe tbody tr th {\n",
       "        vertical-align: top;\n",
       "    }\n",
       "\n",
       "    .dataframe thead th {\n",
       "        text-align: right;\n",
       "    }\n",
       "</style>\n",
       "<table border=\"1\" class=\"dataframe\">\n",
       "  <thead>\n",
       "    <tr style=\"text-align: right;\">\n",
       "      <th></th>\n",
       "      <th>news_id</th>\n",
       "      <th>user</th>\n",
       "      <th>share_freq</th>\n",
       "      <th>following</th>\n",
       "      <th>news_type</th>\n",
       "    </tr>\n",
       "  </thead>\n",
       "  <tbody>\n",
       "    <tr>\n",
       "      <th>0</th>\n",
       "      <td>45</td>\n",
       "      <td>1</td>\n",
       "      <td>1</td>\n",
       "      <td>[]</td>\n",
       "      <td>Real</td>\n",
       "    </tr>\n",
       "    <tr>\n",
       "      <th>1</th>\n",
       "      <td>127</td>\n",
       "      <td>2</td>\n",
       "      <td>1</td>\n",
       "      <td>[]</td>\n",
       "      <td>Fake</td>\n",
       "    </tr>\n",
       "    <tr>\n",
       "      <th>2</th>\n",
       "      <td>115</td>\n",
       "      <td>3</td>\n",
       "      <td>1</td>\n",
       "      <td>[]</td>\n",
       "      <td>Fake</td>\n",
       "    </tr>\n",
       "    <tr>\n",
       "      <th>3</th>\n",
       "      <td>180</td>\n",
       "      <td>3</td>\n",
       "      <td>1</td>\n",
       "      <td>[]</td>\n",
       "      <td>Fake</td>\n",
       "    </tr>\n",
       "    <tr>\n",
       "      <th>4</th>\n",
       "      <td>140</td>\n",
       "      <td>4</td>\n",
       "      <td>1</td>\n",
       "      <td>[]</td>\n",
       "      <td>Fake</td>\n",
       "    </tr>\n",
       "    <tr>\n",
       "      <th>5</th>\n",
       "      <td>5</td>\n",
       "      <td>5</td>\n",
       "      <td>1</td>\n",
       "      <td>[]</td>\n",
       "      <td>Real</td>\n",
       "    </tr>\n",
       "    <tr>\n",
       "      <th>6</th>\n",
       "      <td>45</td>\n",
       "      <td>6</td>\n",
       "      <td>1</td>\n",
       "      <td>[]</td>\n",
       "      <td>Real</td>\n",
       "    </tr>\n",
       "    <tr>\n",
       "      <th>7</th>\n",
       "      <td>45</td>\n",
       "      <td>7</td>\n",
       "      <td>1</td>\n",
       "      <td>[]</td>\n",
       "      <td>Real</td>\n",
       "    </tr>\n",
       "    <tr>\n",
       "      <th>8</th>\n",
       "      <td>45</td>\n",
       "      <td>8</td>\n",
       "      <td>1</td>\n",
       "      <td>[]</td>\n",
       "      <td>Real</td>\n",
       "    </tr>\n",
       "    <tr>\n",
       "      <th>9</th>\n",
       "      <td>150</td>\n",
       "      <td>9</td>\n",
       "      <td>1</td>\n",
       "      <td>[]</td>\n",
       "      <td>Fake</td>\n",
       "    </tr>\n",
       "    <tr>\n",
       "      <th>10</th>\n",
       "      <td>140</td>\n",
       "      <td>10</td>\n",
       "      <td>1</td>\n",
       "      <td>[240, 740, 2278, 2737, 3933, 5147, 5337, 6955,...</td>\n",
       "      <td>Fake</td>\n",
       "    </tr>\n",
       "  </tbody>\n",
       "</table>\n",
       "</div>"
      ],
      "text/plain": [
       "    news_id  user  share_freq  \\\n",
       "0        45     1           1   \n",
       "1       127     2           1   \n",
       "2       115     3           1   \n",
       "3       180     3           1   \n",
       "4       140     4           1   \n",
       "5         5     5           1   \n",
       "6        45     6           1   \n",
       "7        45     7           1   \n",
       "8        45     8           1   \n",
       "9       150     9           1   \n",
       "10      140    10           1   \n",
       "\n",
       "                                            following news_type  \n",
       "0                                                  []      Real  \n",
       "1                                                  []      Fake  \n",
       "2                                                  []      Fake  \n",
       "3                                                  []      Fake  \n",
       "4                                                  []      Fake  \n",
       "5                                                  []      Real  \n",
       "6                                                  []      Real  \n",
       "7                                                  []      Real  \n",
       "8                                                  []      Real  \n",
       "9                                                  []      Fake  \n",
       "10  [240, 740, 2278, 2737, 3933, 5147, 5337, 6955,...      Fake  "
      ]
     },
     "metadata": {},
     "output_type": "display_data"
    }
   ],
   "source": [
    "following = []\n",
    "user_id_to_news_type = defaultdict(list)\n",
    "news_type = []\n",
    "\n",
    "for index, row in df_news_user.iterrows():\n",
    "    news_type_tmp = df_news.news_type.loc[row.news_id]\n",
    "    user_id_to_news_type[row.user].append((news_type_tmp, row.share_freq))\n",
    "    following.append(user_to_following.get(row.user, []))\n",
    "    news_type.append(news_type_tmp)\n",
    "\n",
    "\n",
    "df_news_user[\"following\"] = following\n",
    "df_news_user['news_type'] = news_type\n",
    "\n",
    "display(df_news_user.head(n=11))"
   ]
  },
  {
   "cell_type": "code",
   "execution_count": 8,
   "metadata": {
    "tags": []
   },
   "outputs": [
    {
     "data": {
      "text/html": [
       "<div>\n",
       "<style scoped>\n",
       "    .dataframe tbody tr th:only-of-type {\n",
       "        vertical-align: middle;\n",
       "    }\n",
       "\n",
       "    .dataframe tbody tr th {\n",
       "        vertical-align: top;\n",
       "    }\n",
       "\n",
       "    .dataframe thead th {\n",
       "        text-align: right;\n",
       "    }\n",
       "</style>\n",
       "<table border=\"1\" class=\"dataframe\">\n",
       "  <thead>\n",
       "    <tr style=\"text-align: right;\">\n",
       "      <th></th>\n",
       "      <th>id_source</th>\n",
       "      <th>id_target</th>\n",
       "      <th>fake_news_shared_by_source</th>\n",
       "      <th>fake_news_shared_by_target</th>\n",
       "      <th>real_news_shared_by_source</th>\n",
       "      <th>real_news_shared_by_target</th>\n",
       "    </tr>\n",
       "  </thead>\n",
       "  <tbody>\n",
       "    <tr>\n",
       "      <th>0</th>\n",
       "      <td>31</td>\n",
       "      <td>10</td>\n",
       "      <td>0</td>\n",
       "      <td>3</td>\n",
       "      <td>1</td>\n",
       "      <td>0</td>\n",
       "    </tr>\n",
       "    <tr>\n",
       "      <th>1</th>\n",
       "      <td>10</td>\n",
       "      <td>240</td>\n",
       "      <td>3</td>\n",
       "      <td>0</td>\n",
       "      <td>0</td>\n",
       "      <td>1</td>\n",
       "    </tr>\n",
       "    <tr>\n",
       "      <th>2</th>\n",
       "      <td>437</td>\n",
       "      <td>10</td>\n",
       "      <td>1</td>\n",
       "      <td>3</td>\n",
       "      <td>0</td>\n",
       "      <td>0</td>\n",
       "    </tr>\n",
       "    <tr>\n",
       "      <th>3</th>\n",
       "      <td>10</td>\n",
       "      <td>740</td>\n",
       "      <td>3</td>\n",
       "      <td>1</td>\n",
       "      <td>0</td>\n",
       "      <td>0</td>\n",
       "    </tr>\n",
       "    <tr>\n",
       "      <th>4</th>\n",
       "      <td>789</td>\n",
       "      <td>10</td>\n",
       "      <td>1</td>\n",
       "      <td>3</td>\n",
       "      <td>0</td>\n",
       "      <td>0</td>\n",
       "    </tr>\n",
       "  </tbody>\n",
       "</table>\n",
       "</div>"
      ],
      "text/plain": [
       "   id_source  id_target  fake_news_shared_by_source  \\\n",
       "0         31         10                           0   \n",
       "1         10        240                           3   \n",
       "2        437         10                           1   \n",
       "3         10        740                           3   \n",
       "4        789         10                           1   \n",
       "\n",
       "   fake_news_shared_by_target  real_news_shared_by_source  \\\n",
       "0                           3                           1   \n",
       "1                           0                           0   \n",
       "2                           3                           0   \n",
       "3                           1                           0   \n",
       "4                           3                           0   \n",
       "\n",
       "   real_news_shared_by_target  \n",
       "0                           0  \n",
       "1                           1  \n",
       "2                           0  \n",
       "3                           0  \n",
       "4                           0  "
      ]
     },
     "execution_count": 8,
     "metadata": {},
     "output_type": "execute_result"
    }
   ],
   "source": [
    "def count_fake_news(following: list):\n",
    "    count = 0\n",
    "    for user in following:\n",
    "        news_type_freq = user_id_to_news_type.get(user)\n",
    "        for news in news_type_freq:\n",
    "            if news[0] == 'Fake':\n",
    "                count += news[1]\n",
    "    return count\n",
    "        \n",
    "def count_real_news(following: list):\n",
    "    count = 0\n",
    "    for user in following:\n",
    "        news_type_freq = user_id_to_news_type.get(user)\n",
    "        for news in news_type_freq:\n",
    "            if news[0] == 'Real':\n",
    "                count += news[1]\n",
    "    return count\n",
    "\n",
    "def count_total_news(following: list):\n",
    "    count = 0\n",
    "    for user in following:\n",
    "        news_type_freq = user_id_to_news_type.get(user)\n",
    "        for news in news_type_freq:\n",
    "            count += 1\n",
    "    return count\n",
    "    \n",
    "def count_total_freq_news(following: list):\n",
    "    count = 0\n",
    "    for user in following:\n",
    "        news_type_freq = user_id_to_news_type.get(user)\n",
    "        for news in news_type_freq:\n",
    "            count += news[1]\n",
    "    return count\n",
    "    \n",
    "# Computamos cantidad de fake y real news compartidas por los vecinos\n",
    "#df_news_user['fake_news_shared_by_following'] = df_news_user[\"following\"].apply(lambda x : count_fake_news(x))\n",
    "#df_news_user['fake_news_shared_by_user'] = df_news_user[\"user\"].apply(lambda x : count_fake_news([x]))\n",
    "\n",
    "#df_news_user['real_news_shared_by_following'] = df_news_user[\"following\"].apply(lambda x : count_real_news(x))\n",
    "#df_news_user['real_news_shared_by_user'] = df_news_user[\"user\"].apply(lambda x : count_real_news([x]))\n",
    "\n",
    "#df_news_user['total_news_shared_by_following'] = df_news_user[\"following\"].apply(lambda x : count_total_news(x))\n",
    "#df_news_user['total_news_shared_by_user'] = df_news_user[\"user\"].apply(lambda x : count_total_news([x]))\n",
    "\n",
    "#df_news_user['total_freq_news_shared_by_following'] = df_news_user[\"following\"].apply(lambda x : count_total_freq_news(x))\n",
    "#df_news_user['total_freq_news_shared_by_user'] = df_news_user[\"user\"].apply(lambda x : count_total_freq_news([x]))\n",
    "\n",
    "#df_news_user[\"count_following\"] = df_news_user[\"following\"].apply(lambda x : len(x))\n",
    "#df_news_user.head()\n",
    "\n",
    "# Computamos cantidad de fake y real news compartidas por cada usuario, ya sea usuario source o usuario target\n",
    "df_user_user['fake_news_shared_by_source'] = df_user_user[\"id_source\"].apply(lambda x : count_fake_news([x]))\n",
    "df_user_user['fake_news_shared_by_target'] = df_user_user[\"id_target\"].apply(lambda x : count_fake_news([x]))\n",
    "df_user_user['real_news_shared_by_source'] = df_user_user[\"id_source\"].apply(lambda x : count_real_news([x]))\n",
    "df_user_user['real_news_shared_by_target'] = df_user_user[\"id_target\"].apply(lambda x : count_real_news([x]))\n",
    "df_user_user.head()"
   ]
  },
  {
   "cell_type": "code",
   "execution_count": 9,
   "metadata": {},
   "outputs": [
    {
     "name": "stdout",
     "output_type": "stream",
     "text": [
      "El dataset de usuarios que siguen a usuarios finalmente cuenta con 24306 observaciones\n"
     ]
    }
   ],
   "source": [
    "print(f\"El dataset de usuarios que siguen a usuarios finalmente cuenta con {len(df_user_user)} observaciones\")"
   ]
  },
  {
   "cell_type": "markdown",
   "metadata": {},
   "source": [
    "## Analisis Estadistico"
   ]
  },
  {
   "cell_type": "code",
   "execution_count": 10,
   "metadata": {},
   "outputs": [
    {
     "data": {
      "text/plain": [
       "0     11714\n",
       "1      9206\n",
       "2      1998\n",
       "3       689\n",
       "4       372\n",
       "5       118\n",
       "10       57\n",
       "7        49\n",
       "13       47\n",
       "6        40\n",
       "8         9\n",
       "11        6\n",
       "21        1\n",
       "Name: fake_news_shared_by_source, dtype: int64"
      ]
     },
     "execution_count": 10,
     "metadata": {},
     "output_type": "execute_result"
    }
   ],
   "source": [
    "df_user_user.fake_news_shared_by_source.value_counts()"
   ]
  },
  {
   "cell_type": "markdown",
   "metadata": {},
   "source": [
    "Borramos observaciones duplicadas"
   ]
  },
  {
   "cell_type": "code",
   "execution_count": 11,
   "metadata": {},
   "outputs": [],
   "source": [
    "#df_user_user = df_user_user.drop_duplicates(subset=['id_source']).sort_values(by=['id_source'])\n",
    "#df_user_user.head()\n",
    "#len(df_user_user.id_source)"
   ]
  },
  {
   "cell_type": "markdown",
   "metadata": {},
   "source": [
    "## Guardado de Dataset"
   ]
  },
  {
   "cell_type": "code",
   "execution_count": 12,
   "metadata": {},
   "outputs": [],
   "source": [
    "df_user_user.to_csv(\"../DatosKaggle/BuzzFeed/sample/UsersFollowing_20210819.csv\", index = False, encoding='utf-8-sig')"
   ]
  },
  {
   "cell_type": "code",
   "execution_count": 13,
   "metadata": {},
   "outputs": [],
   "source": [
    "#df_user_user[[\"id_source\", \"id_target\"]].to_csv(\"../DatosKaggle/BuzzFeed/sample/UsersFollowing_20210819.txt\", sep='\\t', header=None, index = False)\n",
    "df_user_user[[\"id_source\", \"id_target\"]].to_csv(\"../DatosKaggle/BuzzFeed/sample/UsersFollowing_20210819.txt\", sep='\\t', header=None, index = False)"
   ]
  }
 ],
 "metadata": {
  "kernelspec": {
   "display_name": "Python 3",
   "language": "python",
   "name": "python3"
  },
  "language_info": {
   "codemirror_mode": {
    "name": "ipython",
    "version": 3
   },
   "file_extension": ".py",
   "mimetype": "text/x-python",
   "name": "python",
   "nbconvert_exporter": "python",
   "pygments_lexer": "ipython3",
   "version": "3.7.6"
  }
 },
 "nbformat": 4,
 "nbformat_minor": 4
}
